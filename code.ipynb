{
  "nbformat": 4,
  "nbformat_minor": 0,
  "metadata": {
    "colab": {
      "name": "MP4.ipynb",
      "provenance": [],
      "collapsed_sections": []
    },
    "kernelspec": {
      "name": "python3",
      "display_name": "Python 3"
    },
    "language_info": {
      "name": "python"
    }
  },
  "cells": [
    {
      "cell_type": "code",
      "metadata": {
        "colab": {
          "base_uri": "https://localhost:8080/"
        },
        "id": "hlrYeBhCM5gU",
        "outputId": "a6995a09-512f-416a-8a6a-ee69b2b35b02"
      },
      "source": [
        "import pandas as pd\n",
        "import numpy as np\n",
        "from sklearn.ensemble import IsolationForest\n",
        "from sklearn.ensemble import RandomForestClassifier\n",
        "from sklearn import neighbors \n",
        "from sklearn import datasets, model_selection as ms\n",
        "from sklearn.metrics import confusion_matrix\n",
        "from sklearn.metrics import roc_auc_score\n",
        "from sklearn.metrics import accuracy_score\n",
        "from sklearn.metrics import classification_report\n",
        "import plotly.graph_objs as go\n",
        "from plotly.offline import download_plotlyjs, init_notebook_mode, plot, iplot\n",
        "import matplotlib.pyplot as plt\n",
        "import seaborn as sns\n",
        "\n",
        "from google.colab import drive\n",
        "drive.mount('/content/drive/',force_remount=True)\n",
        "!ls \"/content/drive/My Drive/COMP551/\"\n",
        "\n",
        "creditcard = pd.read_csv(\"/content/drive/My Drive/COMP551/creditcard.csv\")"
      ],
      "execution_count": null,
      "outputs": [
        {
          "output_type": "stream",
          "text": [
            "Mounted at /content/drive/\n",
            "creditcard.csv\n"
          ],
          "name": "stdout"
        }
      ]
    },
    {
      "cell_type": "code",
      "metadata": {
        "id": "Ax48ebhyy-Q_"
      },
      "source": [
        "#Checking for missing data\n",
        "#total = creditcard.isnull().sum().sort_values(ascending = False)\n",
        "#percent = (creditcard.isnull().sum()/creditcard.isnull().count()*100).sort_values(ascending = False)\n",
        "#pd.concat([total, percent], axis=1, keys=['Total', 'Percent']).transpose()\n",
        "#There is no missing data"
      ],
      "execution_count": null,
      "outputs": []
    },
    {
      "cell_type": "code",
      "metadata": {
        "id": "bZ3AtHWHzCnV"
      },
      "source": [
        "#Splitting the data\n",
        "x = creditcard.iloc[:,1:30]\n",
        "y = creditcard.iloc[:,30]\n",
        "\n",
        "x_train, x_test, y_train, y_test = ms.train_test_split(x, y, test_size=0.25, random_state=99)"
      ],
      "execution_count": null,
      "outputs": []
    },
    {
      "cell_type": "code",
      "metadata": {
        "id": "6udopKdIzp0K"
      },
      "source": [
        "#Checking for data unbalance\n",
        "\n",
        "temp = creditcard[\"Class\"].value_counts()\n",
        "df = pd.DataFrame({'Class': temp.index,'values': temp.values})\n",
        "trace = go.Bar(\n",
        "    x = df['Class'],y = df['values'],\n",
        "    name=\"Credit Card Fraud Class - data unbalance (Not fraud = 0, Fraud = 1)\",\n",
        "    marker=dict(color=\"Blue\"),\n",
        "    text=df['values']\n",
        ")\n",
        "data = [trace]\n",
        "layout = dict(title = 'Credit Card Fraud Class - data unbalance (Not fraud = 0, Fraud = 1)',\n",
        "          xaxis = dict(title = 'Class', showticklabels=True), \n",
        "          yaxis = dict(title = 'Number of transactions'),\n",
        "          hovermode = 'closest',width=700\n",
        "         )\n",
        "fig = dict(data=data, layout=layout)\n",
        "iplot(fig, filename='class')"
      ],
      "execution_count": null,
      "outputs": []
    },
    {
      "cell_type": "code",
      "metadata": {
        "id": "QhrnPG4W0-ag"
      },
      "source": [
        "#Feature correlation \n",
        "plt.figure(figsize = (14,14))\n",
        "plt.title('Credit Card Transactions features correlation plot (Pearson)')\n",
        "corr = creditcard.corr()\n",
        "sns.heatmap(corr,xticklabels=corr.columns,yticklabels=corr.columns,linewidths=.1,cmap=\"Blues\")\n",
        "plt.show()"
      ],
      "execution_count": null,
      "outputs": []
    },
    {
      "cell_type": "code",
      "metadata": {
        "id": "QxOB2kFLzMX8"
      },
      "source": [
        "# Isolation Forest\n",
        "IF = IsolationForest(n_estimators = 50, max_samples=20, contamination = 0.001)\n",
        "IF.fit(x_train,y_train)\n",
        "y_pred = pd.Series(IF.predict(x_test)).map({-1:1,1:0})\n",
        "print(accuracy_score(y_test,y_pred))\n",
        "print(classification_report(y_test,y_pred))\n",
        "print(roc_auc_score(y_test,y_pred))"
      ],
      "execution_count": null,
      "outputs": []
    },
    {
      "cell_type": "code",
      "metadata": {
        "id": "LR404IwHzP6f"
      },
      "source": [
        "#Local Outlier Factor\n",
        "LOF = neighbors.LocalOutlierFactor(novelty=True, n_neighbors=20, contamination=0.001)\n",
        "LOF.fit(x_train,y_train)\n",
        "y_pred2 = pd.Series(LOF.predict(x_test)).map({-1:1,1:0})\n",
        "print(accuracy_score(y_test,y_pred2))\n",
        "print(classification_report(y_test,y_pred2))\n",
        "print(roc_auc_score(y_test,y_pred2))"
      ],
      "execution_count": null,
      "outputs": []
    }
  ]
}